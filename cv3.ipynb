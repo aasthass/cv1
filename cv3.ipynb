{
  "nbformat": 4,
  "nbformat_minor": 0,
  "metadata": {
    "colab": {
      "provenance": []
    },
    "kernelspec": {
      "name": "python3",
      "display_name": "Python 3"
    },
    "language_info": {
      "name": "python"
    }
  },
  "cells": [
    {
      "cell_type": "code",
      "execution_count": null,
      "metadata": {
        "id": "HamhuHiKJs1s"
      },
      "outputs": [],
      "source": [
        "import numpy as np\n",
        "import matplotlib.pyplot as plt\n"
      ]
    },
    {
      "cell_type": "code",
      "source": [
        "def compute_glcm_features(img):\n",
        "  \"\"\"\n",
        "  Computes the GLCM texture features for a given image.\n",
        "\n",
        "  Args:\n",
        "    img: A 2D numpy array representing the image.\n",
        "\n",
        "  Returns:\n",
        "    A dictionary containing the GLCM texture features:\n",
        "      - contrast: The contrast of the image.\n",
        "      - correlation: The correlation of the image.\n",
        "      - homogeneity: The homogeneity of the image.\n",
        "      - energy: The energy of the image.\n",
        "  \"\"\"\n",
        "\n",
        "  # Ensure the image is in uint8 format.\n",
        "  img = img.astype(np.uint8)\n",
        "\n",
        "  # Calculate the co-occurrence matrix.\n",
        "  cooccurrence_matrix = np.zeros((256, 256))\n",
        "  for i in range(img.shape[0] - 1):\n",
        "    for j in range(img.shape[1] - 1):\n",
        "      cooccurrence_matrix[img[i, j], img[i + 1, j]] += 1\n",
        "\n",
        "  # Calculate the GLCM texture features.\n",
        "  contrast = 0.0\n",
        "  correlation = 0.0\n",
        "  homogeneity = 0.0\n",
        "  energy = 0.0\n",
        "  for i in range(256):\n",
        "    for j in range(256):\n",
        "      contrast += (i - j) ** 2 * cooccurrence_matrix[i, j]\n",
        "      correlation += (i - img.mean()) * (j - img.mean()) * cooccurrence_matrix[i, j]\n",
        "      homogeneity += cooccurrence_matrix[i, j] / (1 + abs(i - j))\n",
        "      energy += cooccurrence_matrix[i, j] ** 2\n",
        "\n",
        "  return {\n",
        "    \"contrast\": contrast,\n",
        "    \"correlation\": correlation,\n",
        "    \"homogeneity\": homogeneity,\n",
        "    \"energy\":energy}\n",
        "\n",
        "# Load the images.\n",
        "smooth_img = plt.imread('/content/smooth.jpeg')\n",
        "random_img = plt.imread('/content/random.png')\n",
        "coarse_img = plt.imread('/content/coarse.jpeg')\n",
        "\n",
        "# Compute the GLCM texture features.\n",
        "smooth_features = compute_glcm_features(smooth_img)\n",
        "random_features = compute_glcm_features(random_img)\n",
        "coarse_features = compute_glcm_features(coarse_img)\n",
        "\n",
        "# Print the results.\n",
        "print('Smooth Image:')\n",
        "print(smooth_features)\n",
        "print('Random Image:')\n",
        "print(random_features)\n",
        "print('Coarse Image:')\n",
        "print(coarse_features)\n"
      ],
      "metadata": {
        "colab": {
          "base_uri": "https://localhost:8080/"
        },
        "id": "jKU-hfEILkUr",
        "outputId": "20ec294b-1022-4060-b13f-9970d84ef0e7"
      },
      "execution_count": null,
      "outputs": [
        {
          "output_type": "stream",
          "name": "stdout",
          "text": [
            "Smooth Image:\n",
            "{'contrast': 2652999.0, 'correlation': 70146204.62338883, 'homogeneity': 65024.81957155503, 'energy': 32311749.0}\n",
            "Random Image:\n",
            "{'contrast': 5153.0, 'correlation': 18921.35120496613, 'homogeneity': 83256.5, 'energy': 3449935617.0}\n",
            "Coarse Image:\n",
            "{'contrast': 310943197.0, 'correlation': 170039011.5483525, 'homogeneity': 10148.729585028035, 'energy': 1045318.0}\n"
          ]
        }
      ]
    },
    {
      "cell_type": "code",
      "source": [
        "# prompt: print these values in  a table to compare\n",
        "\n",
        "import pandas as pd\n",
        "\n",
        "# Create a dictionary to store the features.\n",
        "data = {\n",
        "    'Image': ['Smooth', 'Random', 'Coarse'],\n",
        "    'Contrast': [smooth_features['contrast'], random_features['contrast'], coarse_features['contrast']],\n",
        "    'Correlation': [smooth_features['correlation'], random_features['correlation'], coarse_features['correlation']],\n",
        "    'Homogeneity': [smooth_features['homogeneity'], random_features['homogeneity'], coarse_features['homogeneity']],\n",
        "    'Energy': [smooth_features['energy'], random_features['energy'], coarse_features['energy']]\n",
        "}\n",
        "\n",
        "# Create a pandas DataFrame.\n",
        "df = pd.DataFrame(data)\n",
        "\n",
        "# Print the DataFrame.\n",
        "print(df.to_string())\n"
      ],
      "metadata": {
        "colab": {
          "base_uri": "https://localhost:8080/"
        },
        "id": "cNNeNw80Pgwq",
        "outputId": "eb386c03-19bc-4dd8-f943-2e13fafa2dbf"
      },
      "execution_count": null,
      "outputs": [
        {
          "output_type": "stream",
          "name": "stdout",
          "text": [
            "    Image     Contrast   Correlation   Homogeneity        Energy\n",
            "0  Smooth    2652999.0  7.014620e+07  65024.819572  3.231175e+07\n",
            "1  Random       5153.0  1.892135e+04  83256.500000  3.449936e+09\n",
            "2  Coarse  310943197.0  1.700390e+08  10148.729585  1.045318e+06\n"
          ]
        }
      ]
    }
  ]
}